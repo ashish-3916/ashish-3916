{
  "metadata": {
    "kernelspec": {
      "language": "python",
      "display_name": "Python 3",
      "name": "python3"
    },
    "language_info": {
      "pygments_lexer": "ipython3",
      "nbconvert_exporter": "python",
      "version": "3.6.4",
      "file_extension": ".py",
      "codemirror_mode": {
        "name": "ipython",
        "version": 3
      },
      "name": "python",
      "mimetype": "text/x-python"
    },
    "colab": {
      "name": "spam detection using Naive bayes.ipynb",
      "provenance": [],
      "include_colab_link": true
    }
  },
  "nbformat_minor": 0,
  "nbformat": 4,
  "cells": [
    {
      "cell_type": "markdown",
      "metadata": {
        "id": "view-in-github",
        "colab_type": "text"
      },
      "source": [
        "<a href=\"https://colab.research.google.com/github/ashish-3916/ashish-3916/blob/main/sem%206/NLP/spam_detection_using_Naive_bayes.ipynb\" target=\"_parent\"><img src=\"https://colab.research.google.com/assets/colab-badge.svg\" alt=\"Open In Colab\"/></a>"
      ]
    },
    {
      "cell_type": "markdown",
      "source": [
        "## Importing libraries"
      ],
      "metadata": {
        "id": "U7Lj0CvGdguU"
      }
    },
    {
      "cell_type": "code",
      "source": [
        "import numpy as np\n",
        "import pandas as pd\n",
        "import matplotlib.pyplot as plt\n",
        "import seaborn as sns\n",
        "from wordcloud import WordCloud\n",
        "import re\n",
        "\n",
        "import nltk\n",
        "from nltk.corpus import stopwords\n",
        "from sklearn.feature_extraction.text import CountVectorizer\n",
        "from sklearn.preprocessing import LabelEncoder\n",
        "from sklearn.model_selection import train_test_split\n",
        "from sklearn.naive_bayes import MultinomialNB\n",
        "from sklearn.metrics import confusion_matrix, f1_score, classification_report, accuracy_score"
      ],
      "metadata": {
        "execution": {
          "iopub.status.busy": "2021-07-14T10:31:12.211478Z",
          "iopub.execute_input": "2021-07-14T10:31:12.212043Z",
          "iopub.status.idle": "2021-07-14T10:31:13.954577Z",
          "shell.execute_reply.started": "2021-07-14T10:31:12.211953Z",
          "shell.execute_reply": "2021-07-14T10:31:13.953484Z"
        },
        "trusted": true,
        "id": "Rm9xfaffdguc"
      },
      "execution_count": 71,
      "outputs": []
    },
    {
      "cell_type": "markdown",
      "source": [
        "## Loading the dataset"
      ],
      "metadata": {
        "id": "juqw-Pv3dgug"
      }
    },
    {
      "cell_type": "code",
      "source": [
        "df = pd.read_csv('data.csv')"
      ],
      "metadata": {
        "execution": {
          "iopub.status.busy": "2021-07-14T10:31:13.956468Z",
          "iopub.execute_input": "2021-07-14T10:31:13.957007Z",
          "iopub.status.idle": "2021-07-14T10:31:13.993891Z",
          "shell.execute_reply.started": "2021-07-14T10:31:13.956957Z",
          "shell.execute_reply": "2021-07-14T10:31:13.992867Z"
        },
        "trusted": true,
        "id": "lT4KrMLldgui"
      },
      "execution_count": 72,
      "outputs": []
    },
    {
      "cell_type": "code",
      "source": [
        "df.head(3)"
      ],
      "metadata": {
        "execution": {
          "iopub.status.busy": "2021-07-14T10:31:13.99532Z",
          "iopub.execute_input": "2021-07-14T10:31:13.995619Z",
          "iopub.status.idle": "2021-07-14T10:31:14.021035Z",
          "shell.execute_reply.started": "2021-07-14T10:31:13.995591Z",
          "shell.execute_reply": "2021-07-14T10:31:14.020072Z"
        },
        "trusted": true,
        "colab": {
          "base_uri": "https://localhost:8080/",
          "height": 143
        },
        "id": "HV4M1NNKdguj",
        "outputId": "7b38a2a0-f8ab-4258-f39d-da07b7828ba8"
      },
      "execution_count": 73,
      "outputs": [
        {
          "output_type": "execute_result",
          "data": {
            "text/plain": [
              "  Category                                            Message\n",
              "0      ham  Go until jurong point, crazy.. Available only ...\n",
              "1      ham                      Ok lar... Joking wif u oni...\n",
              "2     spam  Free entry in 2 a wkly comp to win FA Cup fina..."
            ],
            "text/html": [
              "\n",
              "  <div id=\"df-384d821f-cc9d-4fc1-a1d4-77ff4dab2224\">\n",
              "    <div class=\"colab-df-container\">\n",
              "      <div>\n",
              "<style scoped>\n",
              "    .dataframe tbody tr th:only-of-type {\n",
              "        vertical-align: middle;\n",
              "    }\n",
              "\n",
              "    .dataframe tbody tr th {\n",
              "        vertical-align: top;\n",
              "    }\n",
              "\n",
              "    .dataframe thead th {\n",
              "        text-align: right;\n",
              "    }\n",
              "</style>\n",
              "<table border=\"1\" class=\"dataframe\">\n",
              "  <thead>\n",
              "    <tr style=\"text-align: right;\">\n",
              "      <th></th>\n",
              "      <th>Category</th>\n",
              "      <th>Message</th>\n",
              "    </tr>\n",
              "  </thead>\n",
              "  <tbody>\n",
              "    <tr>\n",
              "      <th>0</th>\n",
              "      <td>ham</td>\n",
              "      <td>Go until jurong point, crazy.. Available only ...</td>\n",
              "    </tr>\n",
              "    <tr>\n",
              "      <th>1</th>\n",
              "      <td>ham</td>\n",
              "      <td>Ok lar... Joking wif u oni...</td>\n",
              "    </tr>\n",
              "    <tr>\n",
              "      <th>2</th>\n",
              "      <td>spam</td>\n",
              "      <td>Free entry in 2 a wkly comp to win FA Cup fina...</td>\n",
              "    </tr>\n",
              "  </tbody>\n",
              "</table>\n",
              "</div>\n",
              "      <button class=\"colab-df-convert\" onclick=\"convertToInteractive('df-384d821f-cc9d-4fc1-a1d4-77ff4dab2224')\"\n",
              "              title=\"Convert this dataframe to an interactive table.\"\n",
              "              style=\"display:none;\">\n",
              "        \n",
              "  <svg xmlns=\"http://www.w3.org/2000/svg\" height=\"24px\"viewBox=\"0 0 24 24\"\n",
              "       width=\"24px\">\n",
              "    <path d=\"M0 0h24v24H0V0z\" fill=\"none\"/>\n",
              "    <path d=\"M18.56 5.44l.94 2.06.94-2.06 2.06-.94-2.06-.94-.94-2.06-.94 2.06-2.06.94zm-11 1L8.5 8.5l.94-2.06 2.06-.94-2.06-.94L8.5 2.5l-.94 2.06-2.06.94zm10 10l.94 2.06.94-2.06 2.06-.94-2.06-.94-.94-2.06-.94 2.06-2.06.94z\"/><path d=\"M17.41 7.96l-1.37-1.37c-.4-.4-.92-.59-1.43-.59-.52 0-1.04.2-1.43.59L10.3 9.45l-7.72 7.72c-.78.78-.78 2.05 0 2.83L4 21.41c.39.39.9.59 1.41.59.51 0 1.02-.2 1.41-.59l7.78-7.78 2.81-2.81c.8-.78.8-2.07 0-2.86zM5.41 20L4 18.59l7.72-7.72 1.47 1.35L5.41 20z\"/>\n",
              "  </svg>\n",
              "      </button>\n",
              "      \n",
              "  <style>\n",
              "    .colab-df-container {\n",
              "      display:flex;\n",
              "      flex-wrap:wrap;\n",
              "      gap: 12px;\n",
              "    }\n",
              "\n",
              "    .colab-df-convert {\n",
              "      background-color: #E8F0FE;\n",
              "      border: none;\n",
              "      border-radius: 50%;\n",
              "      cursor: pointer;\n",
              "      display: none;\n",
              "      fill: #1967D2;\n",
              "      height: 32px;\n",
              "      padding: 0 0 0 0;\n",
              "      width: 32px;\n",
              "    }\n",
              "\n",
              "    .colab-df-convert:hover {\n",
              "      background-color: #E2EBFA;\n",
              "      box-shadow: 0px 1px 2px rgba(60, 64, 67, 0.3), 0px 1px 3px 1px rgba(60, 64, 67, 0.15);\n",
              "      fill: #174EA6;\n",
              "    }\n",
              "\n",
              "    [theme=dark] .colab-df-convert {\n",
              "      background-color: #3B4455;\n",
              "      fill: #D2E3FC;\n",
              "    }\n",
              "\n",
              "    [theme=dark] .colab-df-convert:hover {\n",
              "      background-color: #434B5C;\n",
              "      box-shadow: 0px 1px 3px 1px rgba(0, 0, 0, 0.15);\n",
              "      filter: drop-shadow(0px 1px 2px rgba(0, 0, 0, 0.3));\n",
              "      fill: #FFFFFF;\n",
              "    }\n",
              "  </style>\n",
              "\n",
              "      <script>\n",
              "        const buttonEl =\n",
              "          document.querySelector('#df-384d821f-cc9d-4fc1-a1d4-77ff4dab2224 button.colab-df-convert');\n",
              "        buttonEl.style.display =\n",
              "          google.colab.kernel.accessAllowed ? 'block' : 'none';\n",
              "\n",
              "        async function convertToInteractive(key) {\n",
              "          const element = document.querySelector('#df-384d821f-cc9d-4fc1-a1d4-77ff4dab2224');\n",
              "          const dataTable =\n",
              "            await google.colab.kernel.invokeFunction('convertToInteractive',\n",
              "                                                     [key], {});\n",
              "          if (!dataTable) return;\n",
              "\n",
              "          const docLinkHtml = 'Like what you see? Visit the ' +\n",
              "            '<a target=\"_blank\" href=https://colab.research.google.com/notebooks/data_table.ipynb>data table notebook</a>'\n",
              "            + ' to learn more about interactive tables.';\n",
              "          element.innerHTML = '';\n",
              "          dataTable['output_type'] = 'display_data';\n",
              "          await google.colab.output.renderOutput(dataTable, element);\n",
              "          const docLink = document.createElement('div');\n",
              "          docLink.innerHTML = docLinkHtml;\n",
              "          element.appendChild(docLink);\n",
              "        }\n",
              "      </script>\n",
              "    </div>\n",
              "  </div>\n",
              "  "
            ]
          },
          "metadata": {},
          "execution_count": 73
        }
      ]
    },
    {
      "cell_type": "code",
      "source": [
        "df.shape"
      ],
      "metadata": {
        "execution": {
          "iopub.status.busy": "2021-07-14T10:31:14.022493Z",
          "iopub.execute_input": "2021-07-14T10:31:14.022792Z",
          "iopub.status.idle": "2021-07-14T10:31:14.040712Z",
          "shell.execute_reply.started": "2021-07-14T10:31:14.022765Z",
          "shell.execute_reply": "2021-07-14T10:31:14.039316Z"
        },
        "trusted": true,
        "colab": {
          "base_uri": "https://localhost:8080/"
        },
        "id": "wsQ9Ub4adguk",
        "outputId": "a9717de1-04e0-445d-dea8-e6a8c5f5c2a1"
      },
      "execution_count": 74,
      "outputs": [
        {
          "output_type": "execute_result",
          "data": {
            "text/plain": [
              "(5572, 2)"
            ]
          },
          "metadata": {},
          "execution_count": 74
        }
      ]
    },
    {
      "cell_type": "markdown",
      "source": [
        "<b>The dataset has 5572 records and 2 columns</b>"
      ],
      "metadata": {
        "id": "B4mJdUtpdgul"
      }
    },
    {
      "cell_type": "code",
      "source": [
        "df.info()"
      ],
      "metadata": {
        "execution": {
          "iopub.status.busy": "2021-07-14T10:31:14.042172Z",
          "iopub.execute_input": "2021-07-14T10:31:14.042669Z",
          "iopub.status.idle": "2021-07-14T10:31:14.064779Z",
          "shell.execute_reply.started": "2021-07-14T10:31:14.042625Z",
          "shell.execute_reply": "2021-07-14T10:31:14.063732Z"
        },
        "trusted": true,
        "colab": {
          "base_uri": "https://localhost:8080/"
        },
        "id": "1agetQ_tdgum",
        "outputId": "6883db39-839b-4262-9bd3-1074b7a4f1e3"
      },
      "execution_count": 75,
      "outputs": [
        {
          "output_type": "stream",
          "name": "stdout",
          "text": [
            "<class 'pandas.core.frame.DataFrame'>\n",
            "RangeIndex: 5572 entries, 0 to 5571\n",
            "Data columns (total 2 columns):\n",
            " #   Column    Non-Null Count  Dtype \n",
            "---  ------    --------------  ----- \n",
            " 0   Category  5572 non-null   object\n",
            " 1   Message   5572 non-null   object\n",
            "dtypes: object(2)\n",
            "memory usage: 87.2+ KB\n"
          ]
        }
      ]
    },
    {
      "cell_type": "markdown",
      "source": [
        "<b>Both columns are of object datatype</b>"
      ],
      "metadata": {
        "id": "FRwxGBq1dguo"
      }
    },
    {
      "cell_type": "code",
      "source": [
        "# Checking if any duplicate records are present\n",
        "\n",
        "duplicate=df[df.duplicated()] \n",
        "duplicate"
      ],
      "metadata": {
        "execution": {
          "iopub.status.busy": "2021-07-14T10:31:14.066162Z",
          "iopub.execute_input": "2021-07-14T10:31:14.066776Z",
          "iopub.status.idle": "2021-07-14T10:31:14.087785Z",
          "shell.execute_reply.started": "2021-07-14T10:31:14.066721Z",
          "shell.execute_reply": "2021-07-14T10:31:14.086751Z"
        },
        "trusted": true,
        "colab": {
          "base_uri": "https://localhost:8080/",
          "height": 423
        },
        "id": "diaR5PFrdgup",
        "outputId": "ceb36edf-ff42-4d24-c4f3-b3d0674caa27"
      },
      "execution_count": 76,
      "outputs": [
        {
          "output_type": "execute_result",
          "data": {
            "text/plain": [
              "     Category                                            Message\n",
              "103       ham  As per your request 'Melle Melle (Oru Minnamin...\n",
              "154       ham  As per your request 'Melle Melle (Oru Minnamin...\n",
              "207       ham  As I entered my cabin my PA said, '' Happy B'd...\n",
              "223       ham                             Sorry, I'll call later\n",
              "326       ham                   No calls..messages..missed calls\n",
              "...       ...                                                ...\n",
              "5524     spam  You are awarded a SiPix Digital Camera! call 0...\n",
              "5535      ham  I know you are thinkin malaria. But relax, chi...\n",
              "5539      ham                         Just sleeping..and surfing\n",
              "5553      ham                        Hahaha..use your brain dear\n",
              "5558      ham                             Sorry, I'll call later\n",
              "\n",
              "[415 rows x 2 columns]"
            ],
            "text/html": [
              "\n",
              "  <div id=\"df-0e962f11-4e2e-48b5-a4fa-de698acec438\">\n",
              "    <div class=\"colab-df-container\">\n",
              "      <div>\n",
              "<style scoped>\n",
              "    .dataframe tbody tr th:only-of-type {\n",
              "        vertical-align: middle;\n",
              "    }\n",
              "\n",
              "    .dataframe tbody tr th {\n",
              "        vertical-align: top;\n",
              "    }\n",
              "\n",
              "    .dataframe thead th {\n",
              "        text-align: right;\n",
              "    }\n",
              "</style>\n",
              "<table border=\"1\" class=\"dataframe\">\n",
              "  <thead>\n",
              "    <tr style=\"text-align: right;\">\n",
              "      <th></th>\n",
              "      <th>Category</th>\n",
              "      <th>Message</th>\n",
              "    </tr>\n",
              "  </thead>\n",
              "  <tbody>\n",
              "    <tr>\n",
              "      <th>103</th>\n",
              "      <td>ham</td>\n",
              "      <td>As per your request 'Melle Melle (Oru Minnamin...</td>\n",
              "    </tr>\n",
              "    <tr>\n",
              "      <th>154</th>\n",
              "      <td>ham</td>\n",
              "      <td>As per your request 'Melle Melle (Oru Minnamin...</td>\n",
              "    </tr>\n",
              "    <tr>\n",
              "      <th>207</th>\n",
              "      <td>ham</td>\n",
              "      <td>As I entered my cabin my PA said, '' Happy B'd...</td>\n",
              "    </tr>\n",
              "    <tr>\n",
              "      <th>223</th>\n",
              "      <td>ham</td>\n",
              "      <td>Sorry, I'll call later</td>\n",
              "    </tr>\n",
              "    <tr>\n",
              "      <th>326</th>\n",
              "      <td>ham</td>\n",
              "      <td>No calls..messages..missed calls</td>\n",
              "    </tr>\n",
              "    <tr>\n",
              "      <th>...</th>\n",
              "      <td>...</td>\n",
              "      <td>...</td>\n",
              "    </tr>\n",
              "    <tr>\n",
              "      <th>5524</th>\n",
              "      <td>spam</td>\n",
              "      <td>You are awarded a SiPix Digital Camera! call 0...</td>\n",
              "    </tr>\n",
              "    <tr>\n",
              "      <th>5535</th>\n",
              "      <td>ham</td>\n",
              "      <td>I know you are thinkin malaria. But relax, chi...</td>\n",
              "    </tr>\n",
              "    <tr>\n",
              "      <th>5539</th>\n",
              "      <td>ham</td>\n",
              "      <td>Just sleeping..and surfing</td>\n",
              "    </tr>\n",
              "    <tr>\n",
              "      <th>5553</th>\n",
              "      <td>ham</td>\n",
              "      <td>Hahaha..use your brain dear</td>\n",
              "    </tr>\n",
              "    <tr>\n",
              "      <th>5558</th>\n",
              "      <td>ham</td>\n",
              "      <td>Sorry, I'll call later</td>\n",
              "    </tr>\n",
              "  </tbody>\n",
              "</table>\n",
              "<p>415 rows × 2 columns</p>\n",
              "</div>\n",
              "      <button class=\"colab-df-convert\" onclick=\"convertToInteractive('df-0e962f11-4e2e-48b5-a4fa-de698acec438')\"\n",
              "              title=\"Convert this dataframe to an interactive table.\"\n",
              "              style=\"display:none;\">\n",
              "        \n",
              "  <svg xmlns=\"http://www.w3.org/2000/svg\" height=\"24px\"viewBox=\"0 0 24 24\"\n",
              "       width=\"24px\">\n",
              "    <path d=\"M0 0h24v24H0V0z\" fill=\"none\"/>\n",
              "    <path d=\"M18.56 5.44l.94 2.06.94-2.06 2.06-.94-2.06-.94-.94-2.06-.94 2.06-2.06.94zm-11 1L8.5 8.5l.94-2.06 2.06-.94-2.06-.94L8.5 2.5l-.94 2.06-2.06.94zm10 10l.94 2.06.94-2.06 2.06-.94-2.06-.94-.94-2.06-.94 2.06-2.06.94z\"/><path d=\"M17.41 7.96l-1.37-1.37c-.4-.4-.92-.59-1.43-.59-.52 0-1.04.2-1.43.59L10.3 9.45l-7.72 7.72c-.78.78-.78 2.05 0 2.83L4 21.41c.39.39.9.59 1.41.59.51 0 1.02-.2 1.41-.59l7.78-7.78 2.81-2.81c.8-.78.8-2.07 0-2.86zM5.41 20L4 18.59l7.72-7.72 1.47 1.35L5.41 20z\"/>\n",
              "  </svg>\n",
              "      </button>\n",
              "      \n",
              "  <style>\n",
              "    .colab-df-container {\n",
              "      display:flex;\n",
              "      flex-wrap:wrap;\n",
              "      gap: 12px;\n",
              "    }\n",
              "\n",
              "    .colab-df-convert {\n",
              "      background-color: #E8F0FE;\n",
              "      border: none;\n",
              "      border-radius: 50%;\n",
              "      cursor: pointer;\n",
              "      display: none;\n",
              "      fill: #1967D2;\n",
              "      height: 32px;\n",
              "      padding: 0 0 0 0;\n",
              "      width: 32px;\n",
              "    }\n",
              "\n",
              "    .colab-df-convert:hover {\n",
              "      background-color: #E2EBFA;\n",
              "      box-shadow: 0px 1px 2px rgba(60, 64, 67, 0.3), 0px 1px 3px 1px rgba(60, 64, 67, 0.15);\n",
              "      fill: #174EA6;\n",
              "    }\n",
              "\n",
              "    [theme=dark] .colab-df-convert {\n",
              "      background-color: #3B4455;\n",
              "      fill: #D2E3FC;\n",
              "    }\n",
              "\n",
              "    [theme=dark] .colab-df-convert:hover {\n",
              "      background-color: #434B5C;\n",
              "      box-shadow: 0px 1px 3px 1px rgba(0, 0, 0, 0.15);\n",
              "      filter: drop-shadow(0px 1px 2px rgba(0, 0, 0, 0.3));\n",
              "      fill: #FFFFFF;\n",
              "    }\n",
              "  </style>\n",
              "\n",
              "      <script>\n",
              "        const buttonEl =\n",
              "          document.querySelector('#df-0e962f11-4e2e-48b5-a4fa-de698acec438 button.colab-df-convert');\n",
              "        buttonEl.style.display =\n",
              "          google.colab.kernel.accessAllowed ? 'block' : 'none';\n",
              "\n",
              "        async function convertToInteractive(key) {\n",
              "          const element = document.querySelector('#df-0e962f11-4e2e-48b5-a4fa-de698acec438');\n",
              "          const dataTable =\n",
              "            await google.colab.kernel.invokeFunction('convertToInteractive',\n",
              "                                                     [key], {});\n",
              "          if (!dataTable) return;\n",
              "\n",
              "          const docLinkHtml = 'Like what you see? Visit the ' +\n",
              "            '<a target=\"_blank\" href=https://colab.research.google.com/notebooks/data_table.ipynb>data table notebook</a>'\n",
              "            + ' to learn more about interactive tables.';\n",
              "          element.innerHTML = '';\n",
              "          dataTable['output_type'] = 'display_data';\n",
              "          await google.colab.output.renderOutput(dataTable, element);\n",
              "          const docLink = document.createElement('div');\n",
              "          docLink.innerHTML = docLinkHtml;\n",
              "          element.appendChild(docLink);\n",
              "        }\n",
              "      </script>\n",
              "    </div>\n",
              "  </div>\n",
              "  "
            ]
          },
          "metadata": {},
          "execution_count": 76
        }
      ]
    },
    {
      "cell_type": "markdown",
      "source": [
        "<b>There are 415 duplicate records in the dataset</b>"
      ],
      "metadata": {
        "id": "DUyMZJv7dgur"
      }
    },
    {
      "cell_type": "code",
      "source": [
        "# Removing duplicate records\n",
        "\n",
        "df.drop_duplicates(inplace=True)"
      ],
      "metadata": {
        "execution": {
          "iopub.status.busy": "2021-07-14T10:31:14.089103Z",
          "iopub.execute_input": "2021-07-14T10:31:14.089708Z",
          "iopub.status.idle": "2021-07-14T10:31:14.099928Z",
          "shell.execute_reply.started": "2021-07-14T10:31:14.089662Z",
          "shell.execute_reply": "2021-07-14T10:31:14.098985Z"
        },
        "trusted": true,
        "id": "JoQwZxE1dgur"
      },
      "execution_count": 77,
      "outputs": []
    },
    {
      "cell_type": "code",
      "source": [
        "# Again check if any duplicate records are left\n",
        "\n",
        "duplicate = df[df.duplicated()] \n",
        "duplicate"
      ],
      "metadata": {
        "execution": {
          "iopub.status.busy": "2021-07-14T10:31:14.102589Z",
          "iopub.execute_input": "2021-07-14T10:31:14.103176Z",
          "iopub.status.idle": "2021-07-14T10:31:14.116844Z",
          "shell.execute_reply.started": "2021-07-14T10:31:14.103131Z",
          "shell.execute_reply": "2021-07-14T10:31:14.116106Z"
        },
        "trusted": true,
        "colab": {
          "base_uri": "https://localhost:8080/",
          "height": 50
        },
        "id": "DxqMu4Nbdgus",
        "outputId": "bf43f0f4-ff83-4b17-f281-b86dbac15ac3"
      },
      "execution_count": 78,
      "outputs": [
        {
          "output_type": "execute_result",
          "data": {
            "text/plain": [
              "Empty DataFrame\n",
              "Columns: [Category, Message]\n",
              "Index: []"
            ],
            "text/html": [
              "\n",
              "  <div id=\"df-aaa3e91c-03e9-4f4d-bed6-0fff9df00416\">\n",
              "    <div class=\"colab-df-container\">\n",
              "      <div>\n",
              "<style scoped>\n",
              "    .dataframe tbody tr th:only-of-type {\n",
              "        vertical-align: middle;\n",
              "    }\n",
              "\n",
              "    .dataframe tbody tr th {\n",
              "        vertical-align: top;\n",
              "    }\n",
              "\n",
              "    .dataframe thead th {\n",
              "        text-align: right;\n",
              "    }\n",
              "</style>\n",
              "<table border=\"1\" class=\"dataframe\">\n",
              "  <thead>\n",
              "    <tr style=\"text-align: right;\">\n",
              "      <th></th>\n",
              "      <th>Category</th>\n",
              "      <th>Message</th>\n",
              "    </tr>\n",
              "  </thead>\n",
              "  <tbody>\n",
              "  </tbody>\n",
              "</table>\n",
              "</div>\n",
              "      <button class=\"colab-df-convert\" onclick=\"convertToInteractive('df-aaa3e91c-03e9-4f4d-bed6-0fff9df00416')\"\n",
              "              title=\"Convert this dataframe to an interactive table.\"\n",
              "              style=\"display:none;\">\n",
              "        \n",
              "  <svg xmlns=\"http://www.w3.org/2000/svg\" height=\"24px\"viewBox=\"0 0 24 24\"\n",
              "       width=\"24px\">\n",
              "    <path d=\"M0 0h24v24H0V0z\" fill=\"none\"/>\n",
              "    <path d=\"M18.56 5.44l.94 2.06.94-2.06 2.06-.94-2.06-.94-.94-2.06-.94 2.06-2.06.94zm-11 1L8.5 8.5l.94-2.06 2.06-.94-2.06-.94L8.5 2.5l-.94 2.06-2.06.94zm10 10l.94 2.06.94-2.06 2.06-.94-2.06-.94-.94-2.06-.94 2.06-2.06.94z\"/><path d=\"M17.41 7.96l-1.37-1.37c-.4-.4-.92-.59-1.43-.59-.52 0-1.04.2-1.43.59L10.3 9.45l-7.72 7.72c-.78.78-.78 2.05 0 2.83L4 21.41c.39.39.9.59 1.41.59.51 0 1.02-.2 1.41-.59l7.78-7.78 2.81-2.81c.8-.78.8-2.07 0-2.86zM5.41 20L4 18.59l7.72-7.72 1.47 1.35L5.41 20z\"/>\n",
              "  </svg>\n",
              "      </button>\n",
              "      \n",
              "  <style>\n",
              "    .colab-df-container {\n",
              "      display:flex;\n",
              "      flex-wrap:wrap;\n",
              "      gap: 12px;\n",
              "    }\n",
              "\n",
              "    .colab-df-convert {\n",
              "      background-color: #E8F0FE;\n",
              "      border: none;\n",
              "      border-radius: 50%;\n",
              "      cursor: pointer;\n",
              "      display: none;\n",
              "      fill: #1967D2;\n",
              "      height: 32px;\n",
              "      padding: 0 0 0 0;\n",
              "      width: 32px;\n",
              "    }\n",
              "\n",
              "    .colab-df-convert:hover {\n",
              "      background-color: #E2EBFA;\n",
              "      box-shadow: 0px 1px 2px rgba(60, 64, 67, 0.3), 0px 1px 3px 1px rgba(60, 64, 67, 0.15);\n",
              "      fill: #174EA6;\n",
              "    }\n",
              "\n",
              "    [theme=dark] .colab-df-convert {\n",
              "      background-color: #3B4455;\n",
              "      fill: #D2E3FC;\n",
              "    }\n",
              "\n",
              "    [theme=dark] .colab-df-convert:hover {\n",
              "      background-color: #434B5C;\n",
              "      box-shadow: 0px 1px 3px 1px rgba(0, 0, 0, 0.15);\n",
              "      filter: drop-shadow(0px 1px 2px rgba(0, 0, 0, 0.3));\n",
              "      fill: #FFFFFF;\n",
              "    }\n",
              "  </style>\n",
              "\n",
              "      <script>\n",
              "        const buttonEl =\n",
              "          document.querySelector('#df-aaa3e91c-03e9-4f4d-bed6-0fff9df00416 button.colab-df-convert');\n",
              "        buttonEl.style.display =\n",
              "          google.colab.kernel.accessAllowed ? 'block' : 'none';\n",
              "\n",
              "        async function convertToInteractive(key) {\n",
              "          const element = document.querySelector('#df-aaa3e91c-03e9-4f4d-bed6-0fff9df00416');\n",
              "          const dataTable =\n",
              "            await google.colab.kernel.invokeFunction('convertToInteractive',\n",
              "                                                     [key], {});\n",
              "          if (!dataTable) return;\n",
              "\n",
              "          const docLinkHtml = 'Like what you see? Visit the ' +\n",
              "            '<a target=\"_blank\" href=https://colab.research.google.com/notebooks/data_table.ipynb>data table notebook</a>'\n",
              "            + ' to learn more about interactive tables.';\n",
              "          element.innerHTML = '';\n",
              "          dataTable['output_type'] = 'display_data';\n",
              "          await google.colab.output.renderOutput(dataTable, element);\n",
              "          const docLink = document.createElement('div');\n",
              "          docLink.innerHTML = docLinkHtml;\n",
              "          element.appendChild(docLink);\n",
              "        }\n",
              "      </script>\n",
              "    </div>\n",
              "  </div>\n",
              "  "
            ]
          },
          "metadata": {},
          "execution_count": 78
        }
      ]
    },
    {
      "cell_type": "markdown",
      "source": [
        "<b>Hence, all duplicate records are removed.</b>"
      ],
      "metadata": {
        "id": "PppbizaIdgut"
      }
    },
    {
      "cell_type": "code",
      "source": [
        "df.describe(include='object')"
      ],
      "metadata": {
        "execution": {
          "iopub.status.busy": "2021-07-14T10:31:14.118422Z",
          "iopub.execute_input": "2021-07-14T10:31:14.118878Z",
          "iopub.status.idle": "2021-07-14T10:31:14.289767Z",
          "shell.execute_reply.started": "2021-07-14T10:31:14.118842Z",
          "shell.execute_reply": "2021-07-14T10:31:14.28905Z"
        },
        "trusted": true,
        "colab": {
          "base_uri": "https://localhost:8080/",
          "height": 175
        },
        "id": "B-l37C-0dguu",
        "outputId": "d963bb6f-f598-425c-c5ab-c11ec2020ac2"
      },
      "execution_count": 79,
      "outputs": [
        {
          "output_type": "execute_result",
          "data": {
            "text/plain": [
              "       Category                                            Message\n",
              "count      5157                                               5157\n",
              "unique        2                                               5157\n",
              "top         ham  Go until jurong point, crazy.. Available only ...\n",
              "freq       4516                                                  1"
            ],
            "text/html": [
              "\n",
              "  <div id=\"df-2daf7574-99be-454b-95e9-3966641d8b8b\">\n",
              "    <div class=\"colab-df-container\">\n",
              "      <div>\n",
              "<style scoped>\n",
              "    .dataframe tbody tr th:only-of-type {\n",
              "        vertical-align: middle;\n",
              "    }\n",
              "\n",
              "    .dataframe tbody tr th {\n",
              "        vertical-align: top;\n",
              "    }\n",
              "\n",
              "    .dataframe thead th {\n",
              "        text-align: right;\n",
              "    }\n",
              "</style>\n",
              "<table border=\"1\" class=\"dataframe\">\n",
              "  <thead>\n",
              "    <tr style=\"text-align: right;\">\n",
              "      <th></th>\n",
              "      <th>Category</th>\n",
              "      <th>Message</th>\n",
              "    </tr>\n",
              "  </thead>\n",
              "  <tbody>\n",
              "    <tr>\n",
              "      <th>count</th>\n",
              "      <td>5157</td>\n",
              "      <td>5157</td>\n",
              "    </tr>\n",
              "    <tr>\n",
              "      <th>unique</th>\n",
              "      <td>2</td>\n",
              "      <td>5157</td>\n",
              "    </tr>\n",
              "    <tr>\n",
              "      <th>top</th>\n",
              "      <td>ham</td>\n",
              "      <td>Go until jurong point, crazy.. Available only ...</td>\n",
              "    </tr>\n",
              "    <tr>\n",
              "      <th>freq</th>\n",
              "      <td>4516</td>\n",
              "      <td>1</td>\n",
              "    </tr>\n",
              "  </tbody>\n",
              "</table>\n",
              "</div>\n",
              "      <button class=\"colab-df-convert\" onclick=\"convertToInteractive('df-2daf7574-99be-454b-95e9-3966641d8b8b')\"\n",
              "              title=\"Convert this dataframe to an interactive table.\"\n",
              "              style=\"display:none;\">\n",
              "        \n",
              "  <svg xmlns=\"http://www.w3.org/2000/svg\" height=\"24px\"viewBox=\"0 0 24 24\"\n",
              "       width=\"24px\">\n",
              "    <path d=\"M0 0h24v24H0V0z\" fill=\"none\"/>\n",
              "    <path d=\"M18.56 5.44l.94 2.06.94-2.06 2.06-.94-2.06-.94-.94-2.06-.94 2.06-2.06.94zm-11 1L8.5 8.5l.94-2.06 2.06-.94-2.06-.94L8.5 2.5l-.94 2.06-2.06.94zm10 10l.94 2.06.94-2.06 2.06-.94-2.06-.94-.94-2.06-.94 2.06-2.06.94z\"/><path d=\"M17.41 7.96l-1.37-1.37c-.4-.4-.92-.59-1.43-.59-.52 0-1.04.2-1.43.59L10.3 9.45l-7.72 7.72c-.78.78-.78 2.05 0 2.83L4 21.41c.39.39.9.59 1.41.59.51 0 1.02-.2 1.41-.59l7.78-7.78 2.81-2.81c.8-.78.8-2.07 0-2.86zM5.41 20L4 18.59l7.72-7.72 1.47 1.35L5.41 20z\"/>\n",
              "  </svg>\n",
              "      </button>\n",
              "      \n",
              "  <style>\n",
              "    .colab-df-container {\n",
              "      display:flex;\n",
              "      flex-wrap:wrap;\n",
              "      gap: 12px;\n",
              "    }\n",
              "\n",
              "    .colab-df-convert {\n",
              "      background-color: #E8F0FE;\n",
              "      border: none;\n",
              "      border-radius: 50%;\n",
              "      cursor: pointer;\n",
              "      display: none;\n",
              "      fill: #1967D2;\n",
              "      height: 32px;\n",
              "      padding: 0 0 0 0;\n",
              "      width: 32px;\n",
              "    }\n",
              "\n",
              "    .colab-df-convert:hover {\n",
              "      background-color: #E2EBFA;\n",
              "      box-shadow: 0px 1px 2px rgba(60, 64, 67, 0.3), 0px 1px 3px 1px rgba(60, 64, 67, 0.15);\n",
              "      fill: #174EA6;\n",
              "    }\n",
              "\n",
              "    [theme=dark] .colab-df-convert {\n",
              "      background-color: #3B4455;\n",
              "      fill: #D2E3FC;\n",
              "    }\n",
              "\n",
              "    [theme=dark] .colab-df-convert:hover {\n",
              "      background-color: #434B5C;\n",
              "      box-shadow: 0px 1px 3px 1px rgba(0, 0, 0, 0.15);\n",
              "      filter: drop-shadow(0px 1px 2px rgba(0, 0, 0, 0.3));\n",
              "      fill: #FFFFFF;\n",
              "    }\n",
              "  </style>\n",
              "\n",
              "      <script>\n",
              "        const buttonEl =\n",
              "          document.querySelector('#df-2daf7574-99be-454b-95e9-3966641d8b8b button.colab-df-convert');\n",
              "        buttonEl.style.display =\n",
              "          google.colab.kernel.accessAllowed ? 'block' : 'none';\n",
              "\n",
              "        async function convertToInteractive(key) {\n",
              "          const element = document.querySelector('#df-2daf7574-99be-454b-95e9-3966641d8b8b');\n",
              "          const dataTable =\n",
              "            await google.colab.kernel.invokeFunction('convertToInteractive',\n",
              "                                                     [key], {});\n",
              "          if (!dataTable) return;\n",
              "\n",
              "          const docLinkHtml = 'Like what you see? Visit the ' +\n",
              "            '<a target=\"_blank\" href=https://colab.research.google.com/notebooks/data_table.ipynb>data table notebook</a>'\n",
              "            + ' to learn more about interactive tables.';\n",
              "          element.innerHTML = '';\n",
              "          dataTable['output_type'] = 'display_data';\n",
              "          await google.colab.output.renderOutput(dataTable, element);\n",
              "          const docLink = document.createElement('div');\n",
              "          docLink.innerHTML = docLinkHtml;\n",
              "          element.appendChild(docLink);\n",
              "        }\n",
              "      </script>\n",
              "    </div>\n",
              "  </div>\n",
              "  "
            ]
          },
          "metadata": {},
          "execution_count": 79
        }
      ]
    },
    {
      "cell_type": "code",
      "source": [
        "# Checking for null values\n",
        "\n",
        "df.isnull().sum()"
      ],
      "metadata": {
        "execution": {
          "iopub.status.busy": "2021-07-14T10:31:14.290885Z",
          "iopub.execute_input": "2021-07-14T10:31:14.291352Z",
          "iopub.status.idle": "2021-07-14T10:31:14.300555Z",
          "shell.execute_reply.started": "2021-07-14T10:31:14.291297Z",
          "shell.execute_reply": "2021-07-14T10:31:14.299683Z"
        },
        "trusted": true,
        "colab": {
          "base_uri": "https://localhost:8080/"
        },
        "id": "crkT87Tudguu",
        "outputId": "8c11ff4d-6d63-499e-eb77-a9dbd9503e22"
      },
      "execution_count": 80,
      "outputs": [
        {
          "output_type": "execute_result",
          "data": {
            "text/plain": [
              "Category    0\n",
              "Message     0\n",
              "dtype: int64"
            ]
          },
          "metadata": {},
          "execution_count": 80
        }
      ]
    },
    {
      "cell_type": "markdown",
      "source": [
        "<b>The dataset doesn't have any missing values</b>"
      ],
      "metadata": {
        "id": "ZLsaVyiJdguv"
      }
    },
    {
      "cell_type": "code",
      "source": [
        "# Visualizing the disribution of ham and spam messages\n",
        "\n",
        "sns.countplot(df['Category'])"
      ],
      "metadata": {
        "execution": {
          "iopub.status.busy": "2021-07-14T10:31:14.301825Z",
          "iopub.execute_input": "2021-07-14T10:31:14.302472Z",
          "iopub.status.idle": "2021-07-14T10:31:14.469921Z",
          "shell.execute_reply.started": "2021-07-14T10:31:14.302436Z",
          "shell.execute_reply": "2021-07-14T10:31:14.469106Z"
        },
        "trusted": true,
        "colab": {
          "base_uri": "https://localhost:8080/",
          "height": 353
        },
        "id": "1mTZ5WHjdguw",
        "outputId": "507177f5-a08f-4f48-c49a-39f0cde27bb0"
      },
      "execution_count": 81,
      "outputs": [
        {
          "output_type": "stream",
          "name": "stderr",
          "text": [
            "/usr/local/lib/python3.7/dist-packages/seaborn/_decorators.py:43: FutureWarning: Pass the following variable as a keyword arg: x. From version 0.12, the only valid positional argument will be `data`, and passing other arguments without an explicit keyword will result in an error or misinterpretation.\n",
            "  FutureWarning\n"
          ]
        },
        {
          "output_type": "execute_result",
          "data": {
            "text/plain": [
              "<matplotlib.axes._subplots.AxesSubplot at 0x7feace029a50>"
            ]
          },
          "metadata": {},
          "execution_count": 81
        },
        {
          "output_type": "display_data",
          "data": {
            "text/plain": [
              "<Figure size 432x288 with 1 Axes>"
            ],
            "image/png": "[encoded data removed]"
          },
          "metadata": {
            "needs_background": "light"
          }
        }
      ]
    },
    {
      "cell_type": "markdown",
      "source": [
        "<b> It can be seen that the count of spam messages is much less than ham. </b>"
      ],
      "metadata": {
        "id": "Or1pDGJ-dguw"
      }
    },
    {
      "cell_type": "markdown",
      "source": [
        "## Text Preprocessing"
      ],
      "metadata": {
        "id": "OnObLerAdgux"
      }
    },
    {
      "cell_type": "code",
      "source": [
        "# Expanding contractions\n",
        "\n",
        "# Dictionary of English Contractions\n",
        "contractions_dict = { \"ain't\": \"are not\",\"'s\":\" is\",\"aren't\": \"are not\",\n",
        "                     \"can't\": \"cannot\",\"can't've\": \"cannot have\",\n",
        "                     \"'cause\": \"because\",\"could've\": \"could have\",\"couldn't\": \"could not\",\n",
        "                     \"couldn't've\": \"could not have\", \"didn't\": \"did not\",\"doesn't\": \"does not\",\n",
        "                     \"don't\": \"do not\",\"hadn't\": \"had not\",\"hadn't've\": \"had not have\",\n",
        "                     \"hasn't\": \"has not\",\"haven't\": \"have not\",\"he'd\": \"he would\",\n",
        "                     \"he'd've\": \"he would have\",\"he'll\": \"he will\", \"he'll've\": \"he will have\",\n",
        "                     \"how'd\": \"how did\",\"how'd'y\": \"how do you\",\"how'll\": \"how will\",\n",
        "                     \"I'd\": \"I would\", \"I'd've\": \"I would have\",\"I'll\": \"I will\",\n",
        "                     \"I'll've\": \"I will have\",\"I'm\": \"I am\",\"I've\": \"I have\", \"isn't\": \"is not\",\n",
        "                     \"it'd\": \"it would\",\"it'd've\": \"it would have\",\"it'll\": \"it will\",\n",
        "                     \"it'll've\": \"it will have\", \"let's\": \"let us\",\"ma'am\": \"madam\",\n",
        "                     \"mayn't\": \"may not\",\"might've\": \"might have\",\"mightn't\": \"might not\", \n",
        "                     \"mightn't've\": \"might not have\",\"must've\": \"must have\",\"mustn't\": \"must not\",\n",
        "                     \"mustn't've\": \"must not have\", \"needn't\": \"need not\",\n",
        "                     \"needn't've\": \"need not have\",\"o'clock\": \"of the clock\",\"oughtn't\": \"ought not\",\n",
        "                     \"oughtn't've\": \"ought not have\",\"shan't\": \"shall not\",\"sha'n't\": \"shall not\",\n",
        "                     \"shan't've\": \"shall not have\",\"she'd\": \"she would\",\"she'd've\": \"she would have\",\n",
        "                     \"she'll\": \"she will\", \"she'll've\": \"she will have\",\"should've\": \"should have\",\n",
        "                     \"shouldn't\": \"should not\", \"shouldn't've\": \"should not have\",\"so've\": \"so have\",\n",
        "                     \"that'd\": \"that would\",\"that'd've\": \"that would have\", \"there'd\": \"there would\",\n",
        "                     \"there'd've\": \"there would have\", \"they'd\": \"they would\",\n",
        "                     \"they'd've\": \"they would have\",\"they'll\": \"they will\",\n",
        "                     \"they'll've\": \"they will have\", \"they're\": \"they are\",\"they've\": \"they have\",\n",
        "                     \"to've\": \"to have\",\"wasn't\": \"was not\",\"we'd\": \"we would\",\n",
        "                     \"we'd've\": \"we would have\",\"we'll\": \"we will\",\"we'll've\": \"we will have\",\n",
        "                     \"we're\": \"we are\",\"we've\": \"we have\", \"weren't\": \"were not\",\"what'll\": \"what will\",\n",
        "                     \"what'll've\": \"what will have\",\"what're\": \"what are\", \"what've\": \"what have\",\n",
        "                     \"when've\": \"when have\",\"where'd\": \"where did\", \"where've\": \"where have\",\n",
        "                     \"who'll\": \"who will\",\"who'll've\": \"who will have\",\"who've\": \"who have\",\n",
        "                     \"why've\": \"why have\",\"will've\": \"will have\",\"won't\": \"will not\",\n",
        "                     \"won't've\": \"will not have\", \"would've\": \"would have\",\"wouldn't\": \"would not\",\n",
        "                     \"wouldn't've\": \"would not have\",\"y'all\": \"you all\", \"y'all'd\": \"you all would\",\n",
        "                     \"y'all'd've\": \"you all would have\",\"y'all're\": \"you all are\",\n",
        "                     \"y'all've\": \"you all have\", \"you'd\": \"you would\",\"you'd've\": \"you would have\",\n",
        "                     \"you'll\": \"you will\",\"you'll've\": \"you will have\", \"you're\": \"you are\",\n",
        "                     \"you've\": \"you have\"}\n",
        "\n",
        "# Regular expression for finding contractions\n",
        "contractions_re=re.compile('(%s)' % '|'.join(contractions_dict.keys()))\n",
        "\n",
        "# Function for expanding contractions\n",
        "def expand_contractions(text,contractions_dict=contractions_dict):\n",
        "    def replace(match):\n",
        "        return contractions_dict[match.group(0)]\n",
        "    return contractions_re.sub(replace, text)\n",
        "\n",
        "# Expanding Contractions in the reviews\n",
        "df['Message'] = df['Message'].apply(lambda x:expand_contractions(x))"
      ],
      "metadata": {
        "execution": {
          "iopub.status.busy": "2021-07-14T10:31:14.471499Z",
          "iopub.execute_input": "2021-07-14T10:31:14.47226Z",
          "iopub.status.idle": "2021-07-14T10:31:14.60966Z",
          "shell.execute_reply.started": "2021-07-14T10:31:14.472134Z",
          "shell.execute_reply": "2021-07-14T10:31:14.608723Z"
        },
        "trusted": true,
        "id": "bMyWNZnwdgux"
      },
      "execution_count": 82,
      "outputs": []
    },
    {
      "cell_type": "code",
      "source": [
        "# Converting text to lowercase\n",
        "\n",
        "df['Message'] = df['Message'].apply(lambda x:x.lower())"
      ],
      "metadata": {
        "execution": {
          "iopub.status.busy": "2021-07-14T10:31:14.611027Z",
          "iopub.execute_input": "2021-07-14T10:31:14.611532Z",
          "iopub.status.idle": "2021-07-14T10:31:14.621103Z",
          "shell.execute_reply.started": "2021-07-14T10:31:14.611487Z",
          "shell.execute_reply": "2021-07-14T10:31:14.620058Z"
        },
        "trusted": true,
        "id": "pydXWmNQdgu6"
      },
      "execution_count": 83,
      "outputs": []
    },
    {
      "cell_type": "code",
      "source": [
        "# Removing digits and words containing digits\n",
        "\n",
        "df['Message'] = df['Message'].apply(lambda x: re.sub('\\w*\\d\\w*','', x))"
      ],
      "metadata": {
        "execution": {
          "iopub.status.busy": "2021-07-14T10:31:14.622664Z",
          "iopub.execute_input": "2021-07-14T10:31:14.623316Z",
          "iopub.status.idle": "2021-07-14T10:31:14.731957Z",
          "shell.execute_reply.started": "2021-07-14T10:31:14.623271Z",
          "shell.execute_reply": "2021-07-14T10:31:14.730888Z"
        },
        "trusted": true,
        "id": "e7hFVQ0rdgu6"
      },
      "execution_count": 84,
      "outputs": []
    },
    {
      "cell_type": "code",
      "source": [
        "# Removing punctuations\n",
        "\n",
        "df['Message'] = df['Message'].apply(lambda x: re.sub(r'[^\\w\\s]', '', x))"
      ],
      "metadata": {
        "execution": {
          "iopub.status.busy": "2021-07-14T10:31:14.733365Z",
          "iopub.execute_input": "2021-07-14T10:31:14.733794Z",
          "iopub.status.idle": "2021-07-14T10:31:14.774303Z",
          "shell.execute_reply.started": "2021-07-14T10:31:14.733751Z",
          "shell.execute_reply": "2021-07-14T10:31:14.77335Z"
        },
        "trusted": true,
        "id": "uC3OOCR6dgu6"
      },
      "execution_count": 85,
      "outputs": []
    },
    {
      "cell_type": "code",
      "source": [
        "# Removing extra spaces\n",
        "\n",
        "df['Message']=df['Message'].apply(lambda x: re.sub(' +',' ',x))"
      ],
      "metadata": {
        "execution": {
          "iopub.status.busy": "2021-07-14T10:31:14.775548Z",
          "iopub.execute_input": "2021-07-14T10:31:14.775846Z",
          "iopub.status.idle": "2021-07-14T10:31:14.822301Z",
          "shell.execute_reply.started": "2021-07-14T10:31:14.775817Z",
          "shell.execute_reply": "2021-07-14T10:31:14.82145Z"
        },
        "trusted": true,
        "id": "PdQvgiy9dgu7"
      },
      "execution_count": 86,
      "outputs": []
    },
    {
      "cell_type": "code",
      "source": [
        "# Displaying the text after cleaning\n",
        "\n",
        "for index,text in enumerate(df['Message'][0:3]):\n",
        "    print('Review %d:\\n'%(index+1), text)"
      ],
      "metadata": {
        "execution": {
          "iopub.status.busy": "2021-07-14T10:31:14.823662Z",
          "iopub.execute_input": "2021-07-14T10:31:14.824053Z",
          "iopub.status.idle": "2021-07-14T10:31:14.831538Z",
          "shell.execute_reply.started": "2021-07-14T10:31:14.824012Z",
          "shell.execute_reply": "2021-07-14T10:31:14.830623Z"
        },
        "trusted": true,
        "colab": {
          "base_uri": "https://localhost:8080/"
        },
        "id": "mpJz0jEudgu7",
        "outputId": "3e48cdae-d8d3-4adb-c83b-001e4f746919"
      },
      "execution_count": 87,
      "outputs": [
        {
          "output_type": "stream",
          "name": "stdout",
          "text": [
            "Review 1:\n",
            " go until jurong point crazy available only in bugis n great world la e buffet cine there got amore wat\n",
            "Review 2:\n",
            " ok lar joking wif u oni\n",
            "Review 3:\n",
            " free entry in a wkly comp to win fa cup final tkts may text fa to to receive entry questionstd txt ratetc is apply is\n"
          ]
        }
      ]
    },
    {
      "cell_type": "code",
      "source": [
        "w_tokenizer = nltk.tokenize.WhitespaceTokenizer()\n",
        "lemmatizer = nltk.stem.WordNetLemmatizer()\n",
        "\n",
        "nltk.download('stopwords')\n",
        "nltk.download('wordnet')\n",
        "def lemmatize_text(text):\n",
        "    rev = [lemmatizer.lemmatize(w) for w in w_tokenizer.tokenize(text) if w not in stopwords.words('english')]\n",
        "    rev = ' '.join(rev)\n",
        "    return rev\n",
        "\n",
        "df['Message'] = df.Message.apply(lemmatize_text)"
      ],
      "metadata": {
        "execution": {
          "iopub.status.busy": "2021-07-14T10:31:14.83279Z",
          "iopub.execute_input": "2021-07-14T10:31:14.833158Z",
          "iopub.status.idle": "2021-07-14T10:31:27.175793Z",
          "shell.execute_reply.started": "2021-07-14T10:31:14.833131Z",
          "shell.execute_reply": "2021-07-14T10:31:27.174822Z"
        },
        "trusted": true,
        "colab": {
          "base_uri": "https://localhost:8080/"
        },
        "id": "yaoKQAjUdgu8",
        "outputId": "76b06a27-b17c-4275-b520-b5d319633905"
      },
      "execution_count": 88,
      "outputs": [
        {
          "output_type": "stream",
          "name": "stdout",
          "text": [
            "[nltk_data] Downloading package stopwords to /root/nltk_data...\n",
            "[nltk_data]   Package stopwords is already up-to-date!\n",
            "[nltk_data] Downloading package wordnet to /root/nltk_data...\n",
            "[nltk_data]   Package wordnet is already up-to-date!\n"
          ]
        }
      ]
    },
    {
      "cell_type": "code",
      "source": [
        "# Creating text variable for ham\n",
        "\n",
        "df_ham = df[df.Category == 'ham']\n",
        "\n",
        "text_ham = \" \".join(text for text in df_ham['Message'])"
      ],
      "metadata": {
        "execution": {
          "iopub.status.busy": "2021-07-14T10:31:27.177046Z",
          "iopub.execute_input": "2021-07-14T10:31:27.177345Z",
          "iopub.status.idle": "2021-07-14T10:31:27.186398Z",
          "shell.execute_reply.started": "2021-07-14T10:31:27.1773Z",
          "shell.execute_reply": "2021-07-14T10:31:27.185129Z"
        },
        "trusted": true,
        "id": "SM1R-4vKdgu8"
      },
      "execution_count": 89,
      "outputs": []
    },
    {
      "cell_type": "code",
      "source": [
        "# Creating text variable for spam\n",
        "\n",
        "df_spam = df[df.Category == 'spam']\n",
        "\n",
        "text_spam = \" \".join(text for text in df_spam['Message'])"
      ],
      "metadata": {
        "execution": {
          "iopub.status.busy": "2021-07-14T10:31:27.18787Z",
          "iopub.execute_input": "2021-07-14T10:31:27.18853Z",
          "iopub.status.idle": "2021-07-14T10:31:27.206203Z",
          "shell.execute_reply.started": "2021-07-14T10:31:27.188491Z",
          "shell.execute_reply": "2021-07-14T10:31:27.204833Z"
        },
        "trusted": true,
        "id": "krgBNayedgu8"
      },
      "execution_count": 90,
      "outputs": []
    },
    {
      "cell_type": "code",
      "source": [
        "# Creating wordcloud for ham\n",
        "\n",
        "ham_cloud = WordCloud(collocations = False, background_color = 'white').generate(text_ham)\n",
        "plt.imshow(ham_cloud, interpolation='bilinear')\n",
        "plt.axis(\"off\")\n",
        "plt.show()"
      ],
      "metadata": {
        "execution": {
          "iopub.status.busy": "2021-07-14T10:31:27.207831Z",
          "iopub.execute_input": "2021-07-14T10:31:27.208239Z",
          "iopub.status.idle": "2021-07-14T10:31:27.677236Z",
          "shell.execute_reply.started": "2021-07-14T10:31:27.208199Z",
          "shell.execute_reply": "2021-07-14T10:31:27.676533Z"
        },
        "trusted": true,
        "colab": {
          "base_uri": "https://localhost:8080/",
          "height": 198
        },
        "id": "68ERWC9Bdgu9",
        "outputId": "51484835-256d-4c9c-a7a9-e8397d7e0119"
      },
      "execution_count": 91,
      "outputs": [
        {
          "output_type": "display_data",
          "data": {
            "text/plain": [
              "<Figure size 432x288 with 1 Axes>"
            ],
            "image/png": "[encoded data removed]"
          },
          "metadata": {
            "needs_background": "light"
          }
        }
      ]
    },
    {
      "cell_type": "markdown",
      "source": [
        "<b> u, go, know, come, good, got, ok, time, ur, need, call etc. are some of the most common words in ham messages. </b> "
      ],
      "metadata": {
        "id": "yFckblkJdgu9"
      }
    },
    {
      "cell_type": "code",
      "source": [
        "# Creating wordcloud for spam\n",
        "\n",
        "spam_cloud = WordCloud(collocations = False, background_color = 'white').generate(text_spam)\n",
        "plt.imshow(spam_cloud, interpolation='bilinear')\n",
        "plt.axis(\"off\")\n",
        "plt.show()"
      ],
      "metadata": {
        "execution": {
          "iopub.status.busy": "2021-07-14T10:31:27.678172Z",
          "iopub.execute_input": "2021-07-14T10:31:27.678564Z",
          "iopub.status.idle": "2021-07-14T10:31:28.085789Z",
          "shell.execute_reply.started": "2021-07-14T10:31:27.678537Z",
          "shell.execute_reply": "2021-07-14T10:31:28.085084Z"
        },
        "trusted": true,
        "colab": {
          "base_uri": "https://localhost:8080/",
          "height": 198
        },
        "id": "-7D7N_HidgvC",
        "outputId": "fdce4e52-6a48-4fb7-935c-4784f95b3f45"
      },
      "execution_count": 92,
      "outputs": [
        {
          "output_type": "display_data",
          "data": {
            "text/plain": [
              "<Figure size 432x288 with 1 Axes>"
            ],
            "image/png": "[encoded data removed]"
          },
          "metadata": {
            "needs_background": "light"
          }
        }
      ]
    },
    {
      "cell_type": "markdown",
      "source": [
        "<b> call, free, now, txt, reply, text, claim, prize, mobile, new, service, stop, etc. are some of the most common words in spam messages. </b> "
      ],
      "metadata": {
        "id": "MyF8JIcqdgvD"
      }
    },
    {
      "cell_type": "markdown",
      "source": [
        "## Model"
      ],
      "metadata": {
        "id": "6d1xKsQ8dgvD"
      }
    },
    {
      "cell_type": "code",
      "source": [
        "# Creating a Bag of Words model\n",
        "\n",
        "cv = CountVectorizer()\n",
        "X = cv.fit_transform(df['Message']).toarray()"
      ],
      "metadata": {
        "execution": {
          "iopub.status.busy": "2021-07-14T10:31:28.08858Z",
          "iopub.execute_input": "2021-07-14T10:31:28.088992Z",
          "iopub.status.idle": "2021-07-14T10:31:28.256412Z",
          "shell.execute_reply.started": "2021-07-14T10:31:28.088965Z",
          "shell.execute_reply": "2021-07-14T10:31:28.255587Z"
        },
        "trusted": true,
        "id": "qhUOFM_jdgvD"
      },
      "execution_count": 93,
      "outputs": []
    },
    {
      "cell_type": "code",
      "source": [
        "X"
      ],
      "metadata": {
        "execution": {
          "iopub.status.busy": "2021-07-14T10:31:28.257823Z",
          "iopub.execute_input": "2021-07-14T10:31:28.258104Z",
          "iopub.status.idle": "2021-07-14T10:31:28.263722Z",
          "shell.execute_reply.started": "2021-07-14T10:31:28.258077Z",
          "shell.execute_reply": "2021-07-14T10:31:28.262786Z"
        },
        "trusted": true,
        "colab": {
          "base_uri": "https://localhost:8080/"
        },
        "id": "SLEHAEUrdgvE",
        "outputId": "6ca83b69-3a8d-4101-d36b-1eef736a2686"
      },
      "execution_count": 94,
      "outputs": [
        {
          "output_type": "execute_result",
          "data": {
            "text/plain": [
              "array([[0, 0, 0, ..., 0, 0, 0],\n",
              "       [0, 0, 0, ..., 0, 0, 0],\n",
              "       [0, 0, 0, ..., 0, 0, 0],\n",
              "       ...,\n",
              "       [0, 0, 0, ..., 0, 0, 0],\n",
              "       [0, 0, 0, ..., 0, 0, 0],\n",
              "       [0, 0, 0, ..., 0, 0, 0]])"
            ]
          },
          "metadata": {},
          "execution_count": 94
        }
      ]
    },
    {
      "cell_type": "code",
      "source": [
        "# Encoding dependent variable\n",
        "\n",
        "le = LabelEncoder()\n",
        "df[\"Category\"] = le.fit_transform(df[\"Category\"])    # ham->0 and spam->1"
      ],
      "metadata": {
        "execution": {
          "iopub.status.busy": "2021-07-14T10:31:28.265017Z",
          "iopub.execute_input": "2021-07-14T10:31:28.265312Z",
          "iopub.status.idle": "2021-07-14T10:31:28.278415Z",
          "shell.execute_reply.started": "2021-07-14T10:31:28.265286Z",
          "shell.execute_reply": "2021-07-14T10:31:28.277463Z"
        },
        "trusted": true,
        "id": "adSWR5AjdgvF"
      },
      "execution_count": 95,
      "outputs": []
    },
    {
      "cell_type": "code",
      "source": [
        "y = df[\"Category\"]"
      ],
      "metadata": {
        "execution": {
          "iopub.status.busy": "2021-07-14T10:31:28.279665Z",
          "iopub.execute_input": "2021-07-14T10:31:28.279981Z",
          "iopub.status.idle": "2021-07-14T10:31:28.287229Z",
          "shell.execute_reply.started": "2021-07-14T10:31:28.279943Z",
          "shell.execute_reply": "2021-07-14T10:31:28.286276Z"
        },
        "trusted": true,
        "id": "ZIATcWWJdgvF"
      },
      "execution_count": 96,
      "outputs": []
    },
    {
      "cell_type": "code",
      "source": [
        "# Splitting the dataset into train and test \n",
        "\n",
        "X_train, X_test, y_train, y_test = train_test_split(X, y, test_size=0.2, random_state=42)\n",
        "\n",
        "print(\"X_train:\", X_train.shape)\n",
        "print(\"X_test:\", X_test.shape)\n",
        "print(\"y_train:\", y_train.shape)\n",
        "print(\"y_test:\", y_test.shape)"
      ],
      "metadata": {
        "execution": {
          "iopub.status.busy": "2021-07-14T10:31:28.288637Z",
          "iopub.execute_input": "2021-07-14T10:31:28.288935Z",
          "iopub.status.idle": "2021-07-14T10:31:28.483193Z",
          "shell.execute_reply.started": "2021-07-14T10:31:28.288908Z",
          "shell.execute_reply": "2021-07-14T10:31:28.482058Z"
        },
        "trusted": true,
        "colab": {
          "base_uri": "https://localhost:8080/"
        },
        "id": "2gYbK6O3dgvG",
        "outputId": "146270e3-1f60-43c4-82a7-b922d2f96ae2"
      },
      "execution_count": 97,
      "outputs": [
        {
          "output_type": "stream",
          "name": "stdout",
          "text": [
            "X_train: (4125, 7671)\n",
            "X_test: (1032, 7671)\n",
            "y_train: (4125,)\n",
            "y_test: (1032,)\n"
          ]
        }
      ]
    },
    {
      "cell_type": "code",
      "source": [
        "# Training the model using Naive Bayes classifier\n",
        "\n",
        "nb = MultinomialNB().fit(X_train, y_train)"
      ],
      "metadata": {
        "execution": {
          "iopub.status.busy": "2021-07-14T10:31:28.484542Z",
          "iopub.execute_input": "2021-07-14T10:31:28.484835Z",
          "iopub.status.idle": "2021-07-14T10:31:28.875463Z",
          "shell.execute_reply.started": "2021-07-14T10:31:28.484807Z",
          "shell.execute_reply": "2021-07-14T10:31:28.874564Z"
        },
        "trusted": true,
        "id": "utuKBVAYdgvG"
      },
      "execution_count": 98,
      "outputs": []
    },
    {
      "cell_type": "code",
      "source": [
        "print(\"Score of train data:\", nb.score(X_train, y_train))\n",
        "print(\"Score of test data:\", nb.score(X_test, y_test))"
      ],
      "metadata": {
        "execution": {
          "iopub.status.busy": "2021-07-14T10:31:28.876627Z",
          "iopub.execute_input": "2021-07-14T10:31:28.876907Z",
          "iopub.status.idle": "2021-07-14T10:31:29.061395Z",
          "shell.execute_reply.started": "2021-07-14T10:31:28.876882Z",
          "shell.execute_reply": "2021-07-14T10:31:29.059996Z"
        },
        "trusted": true,
        "colab": {
          "base_uri": "https://localhost:8080/"
        },
        "id": "rRN2GokodgvG",
        "outputId": "0c274db9-d4bc-439c-bead-4cc9d7f94d5d"
      },
      "execution_count": 99,
      "outputs": [
        {
          "output_type": "stream",
          "name": "stdout",
          "text": [
            "Score of train data: 0.9900606060606061\n",
            "Score of test data: 0.9612403100775194\n"
          ]
        }
      ]
    },
    {
      "cell_type": "markdown",
      "source": [
        "<b> The model performs well on train as well as test data </b>"
      ],
      "metadata": {
        "id": "nLhwrl0cdgvH"
      }
    },
    {
      "cell_type": "code",
      "source": [
        "y_pred = nb.predict(X_test)\n",
        "y_pred"
      ],
      "metadata": {
        "execution": {
          "iopub.status.busy": "2021-07-14T10:31:29.063045Z",
          "iopub.execute_input": "2021-07-14T10:31:29.063492Z",
          "iopub.status.idle": "2021-07-14T10:31:29.106522Z",
          "shell.execute_reply.started": "2021-07-14T10:31:29.063449Z",
          "shell.execute_reply": "2021-07-14T10:31:29.105425Z"
        },
        "trusted": true,
        "colab": {
          "base_uri": "https://localhost:8080/"
        },
        "id": "DHCsdlWndgvH",
        "outputId": "ad6cd90d-547e-4bbd-9ce7-800bcde91316"
      },
      "execution_count": 100,
      "outputs": [
        {
          "output_type": "execute_result",
          "data": {
            "text/plain": [
              "array([0, 1, 0, ..., 0, 0, 0])"
            ]
          },
          "metadata": {},
          "execution_count": 100
        }
      ]
    },
    {
      "cell_type": "code",
      "source": [
        "# F1 score and accuracy\n",
        "\n",
        "f1_score = f1_score(y_test, y_pred, average='weighted')\n",
        "accuracy = accuracy_score(y_test, y_pred)\n",
        "\n",
        "print(\"F1 Score:\", f1_score)\n",
        "print(\"Accuracy Score:\", accuracy)"
      ],
      "metadata": {
        "execution": {
          "iopub.status.busy": "2021-07-14T10:31:29.108087Z",
          "iopub.execute_input": "2021-07-14T10:31:29.108761Z",
          "iopub.status.idle": "2021-07-14T10:31:29.120763Z",
          "shell.execute_reply.started": "2021-07-14T10:31:29.108706Z",
          "shell.execute_reply": "2021-07-14T10:31:29.119396Z"
        },
        "trusted": true,
        "colab": {
          "base_uri": "https://localhost:8080/"
        },
        "id": "9b7n2IBBdgvH",
        "outputId": "5e8af3a5-8dac-44bd-e933-dc2c312eeda6"
      },
      "execution_count": 101,
      "outputs": [
        {
          "output_type": "stream",
          "name": "stdout",
          "text": [
            "F1 Score: 0.9627414790205487\n",
            "Accuracy Score: 0.9612403100775194\n"
          ]
        }
      ]
    },
    {
      "cell_type": "code",
      "source": [
        "# Classification Report\n",
        "\n",
        "print(classification_report(y_test, y_pred))"
      ],
      "metadata": {
        "execution": {
          "iopub.status.busy": "2021-07-14T10:31:29.122812Z",
          "iopub.execute_input": "2021-07-14T10:31:29.123582Z",
          "iopub.status.idle": "2021-07-14T10:31:29.140672Z",
          "shell.execute_reply.started": "2021-07-14T10:31:29.123532Z",
          "shell.execute_reply": "2021-07-14T10:31:29.139641Z"
        },
        "trusted": true,
        "colab": {
          "base_uri": "https://localhost:8080/"
        },
        "id": "on7KsnY3dgvI",
        "outputId": "f55a1704-dcd5-4c89-e173-93e06478c995"
      },
      "execution_count": 102,
      "outputs": [
        {
          "output_type": "stream",
          "name": "stdout",
          "text": [
            "              precision    recall  f1-score   support\n",
            "\n",
            "           0       0.99      0.96      0.98       896\n",
            "           1       0.79      0.96      0.87       136\n",
            "\n",
            "    accuracy                           0.96      1032\n",
            "   macro avg       0.89      0.96      0.92      1032\n",
            "weighted avg       0.97      0.96      0.96      1032\n",
            "\n"
          ]
        }
      ]
    },
    {
      "cell_type": "code",
      "source": [
        "cm = confusion_matrix(y_test, y_pred)\n",
        "\n",
        "group_names = ['True Neg', 'False Pos', 'False Neg', 'True Pos']\n",
        "group_counts = [\"{0:0.0f}\".format(value) for value in\n",
        "                cm.flatten()]\n",
        "group_percentages = [\"{0:.2%}\".format(value) for value in\n",
        "                     cm.flatten()/np.sum(cm)]\n",
        "labels = [f\"{v1}\\n{v2}\\n{v3}\" for v1, v2, v3 in\n",
        "          zip(group_names,group_counts,group_percentages)]\n",
        "labels = np.asarray(labels).reshape(2,2)\n",
        "sns.heatmap(cm, annot=labels, fmt='', cmap='Dark2')"
      ],
      "metadata": {
        "execution": {
          "iopub.status.busy": "2021-07-14T10:31:29.142148Z",
          "iopub.execute_input": "2021-07-14T10:31:29.142785Z",
          "iopub.status.idle": "2021-07-14T10:31:29.43916Z",
          "shell.execute_reply.started": "2021-07-14T10:31:29.142738Z",
          "shell.execute_reply": "2021-07-14T10:31:29.438195Z"
        },
        "trusted": true,
        "colab": {
          "base_uri": "https://localhost:8080/",
          "height": 284
        },
        "id": "ttLnYTrGdgvI",
        "outputId": "74dfc805-048e-4d96-c21d-d4830877338a"
      },
      "execution_count": 103,
      "outputs": [
        {
          "output_type": "execute_result",
          "data": {
            "text/plain": [
              "<matplotlib.axes._subplots.AxesSubplot at 0x7feace1641d0>"
            ]
          },
          "metadata": {},
          "execution_count": 103
        },
        {
          "output_type": "display_data",
          "data": {
            "text/plain": [
              "<Figure size 432x288 with 2 Axes>"
            ],
            "image/png": "[encoded data removed]"
          },
          "metadata": {
            "needs_background": "light"
          }
        }
      ]
    },
    {
      "cell_type": "code",
      "source": [
        ""
      ],
      "metadata": {
        "id": "LmQfK0y3dgvI"
      },
      "execution_count": 103,
      "outputs": []
    }
  ]
}